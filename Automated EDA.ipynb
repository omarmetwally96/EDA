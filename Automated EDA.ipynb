{
 "cells": [
  {
   "cell_type": "code",
   "execution_count": 1,
   "id": "07d88eee",
   "metadata": {},
   "outputs": [],
   "source": [
    "import pandas as pd\n",
    "import numpy as np\n",
    "import matplotlib.pyplot as plt"
   ]
  },
  {
   "cell_type": "code",
   "execution_count": 2,
   "id": "b07a5f8a",
   "metadata": {},
   "outputs": [],
   "source": [
    "def load_data(file_path, file_format):\n",
    "    if file_format == 'csv':\n",
    "        data = pd.read_csv(file_path)\n",
    "    elif file_format == 'excel':\n",
    "        data = pd.read_excel(file_path)\n",
    "    elif file_format == 'sql':\n",
    "        pass\n",
    "    else:\n",
    "        raise ValueError(\"Unsupported file format\")\n",
    "    return data"
   ]
  },
  {
   "cell_type": "code",
   "execution_count": 3,
   "id": "d8020bd6",
   "metadata": {},
   "outputs": [],
   "source": [
    "def handle_missing_values(data):\n",
    "    data.fillna(data.mean(), inplace=True)\n",
    "    return data"
   ]
  },
  {
   "cell_type": "code",
   "execution_count": 4,
   "id": "d059dcbc",
   "metadata": {},
   "outputs": [],
   "source": [
    "def encode_categorical(data):\n",
    "    cat_columns = data.select_dtypes(include=['object']).columns\n",
    "    for column in cat_columns:\n",
    "        data[column] = pd.Categorical(data[column]).codes\n",
    "    return data"
   ]
  },
  {
   "cell_type": "code",
   "execution_count": 5,
   "id": "b95486ac",
   "metadata": {},
   "outputs": [],
   "source": [
    "def scale_numerical(data):\n",
    "    num_columns = data.select_dtypes(include=[np.number]).columns\n",
    "    data[num_columns] = (data[num_columns] - data[num_columns].mean()) / data[num_columns].std()\n",
    "    return data"
   ]
  },
  {
   "cell_type": "code",
   "execution_count": 6,
   "id": "955813eb",
   "metadata": {},
   "outputs": [],
   "source": [
    "def generate_visualizations(data):\n",
    "    num_columns = data.select_dtypes(include=[np.number]).columns\n",
    "    cat_columns = data.select_dtypes(include=['uint8']).columns\n",
    "\n",
    "    # histograms \n",
    "    for column in num_columns:\n",
    "        plt.figure(figsize=(10, 7))\n",
    "        plt.hist(data[column], bins=20, edgecolor='w')\n",
    "        plt.title(f'Histogram of {column}')\n",
    "        plt.xlabel(column)\n",
    "        plt.ylabel('Frequency')\n",
    "        plt.grid(True)\n",
    "        plt.show()\n",
    "\n",
    "\n",
    "    # scatter  \n",
    "    for column1 in num_columns:\n",
    "        for column2 in num_columns:\n",
    "            if column1 != column2:\n",
    "                plt.figure(figsize=(10, 7))\n",
    "                plt.scatter(data[column1], data[column2])\n",
    "                plt.title(f'Scatter Plot between {column1} and {column2}')\n",
    "                plt.xlabel(column1)\n",
    "                plt.ylabel(column2)\n",
    "                plt.grid(True)\n",
    "                plt.show()\n"
   ]
  },
  {
   "cell_type": "code",
   "execution_count": null,
   "id": "5a63f967",
   "metadata": {},
   "outputs": [],
   "source": [
    "def main():\n",
    "    file_path = input(\"pls enter the path : \")\n",
    "    file_format = input(\"pls enter the format_file (csv, excel, sql): \")\n",
    "\n",
    "    data = load_data(file_path, file_format)\n",
    "    data = handle_missing_values(data)\n",
    "    data = encode_categorical(data)\n",
    "    data = scale_numerical(data)\n",
    "    generate_visualizations(data)\n",
    "\n",
    "if __name__ == '__main__':\n",
    "    main()"
   ]
  }
 ],
 "metadata": {
  "kernelspec": {
   "display_name": "Python 3 (ipykernel)",
   "language": "python",
   "name": "python3"
  },
  "language_info": {
   "codemirror_mode": {
    "name": "ipython",
    "version": 3
   },
   "file_extension": ".py",
   "mimetype": "text/x-python",
   "name": "python",
   "nbconvert_exporter": "python",
   "pygments_lexer": "ipython3",
   "version": "3.9.13"
  }
 },
 "nbformat": 4,
 "nbformat_minor": 5
}
